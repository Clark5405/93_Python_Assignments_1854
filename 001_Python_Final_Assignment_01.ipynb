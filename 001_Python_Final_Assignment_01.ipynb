{
 "cells": [
  {
   "cell_type": "markdown",
   "metadata": {},
   "source": [
    "    JLUFE                                                     Spring 2021 (Feb-July) \n",
    "\n",
    "                             Final Assignment Report        \n",
    "                                 \n",
    "                          \n",
    "                     JILIN UNIVERSITY OF FINANCE AND ECONOMICS  \n",
    "\n",
    "      Department of College of Managment Science and Information Engineering\n",
    "           \n",
    "                    BSc in Information management and information system\n",
    "                                  \n",
    "                                     (2021)\n",
    "                                          \n",
    "                              \n",
    "                                   \n",
    "                            Final Assignment: Part 01\n",
    "                                          \n",
    "                                   21/06/2021\n",
    "                                      \n",
    "                              MODULE: Data Mining \n",
    "                               \n",
    "                  Submitted by: Clark(郭旭) 0314021805405 (1854)\n",
    "                                 QQ: 1145673148 \n",
    "                               Github ID: Clark5405"
   ]
  },
  {
   "cell_type": "markdown",
   "metadata": {},
   "source": [
    "# Instructions:\n",
    "\n",
    "1. I have added tips and required learning resources for each question, which helps you to solve the exercise. \n",
    "\n",
    "2. Finish the assignment on your **OWN** (**Any student find copying/sharing from classmates or internet will get '0' points!!!**)\n",
    "\n",
    "3. **Accept this assignment** from the **[Github Clasroom link](https://classroom.github.com/a/yFXO50A4)** This will create private repository of the assignment in your Github account.\n",
    "\n",
    "4. In your repository **`Clone`** -> **`Download ZIP`** in your computer.\n",
    "\n",
    "5. Change your: **Major**, **Name**, **Student number**, **Class number**, **QQ number** and **GitHub ID**\n",
    "\n",
    "6. Once you finish the Assignment **[convert your .ipynb file into PDF](https://github.com/milaan9/91_Python_Tips/blob/main/000_Convert_Jupyter_Notebook_to_PDF.ipynb)** (both .pynb and .pdf file will be required!)\n",
    "\n",
    "7. Create Folder name \"**Solution**\" and copy your 3 files:\n",
    "    1. Your Jupyter Notebook file (**.ipynb**).\n",
    "    2. Your PDF converted file (**.pdf**).\n",
    "    3. **.zip** file containing both .ipynb and .pdf files and name your .zip file as your student number and name. For example: **0318021907632 Milan(米兰).zip**\n",
    "    \n",
    "8. Finally, in your repository **`Add files`** -> **`upload files`** upload the \"**Solution**\" folder and **`Commit changes`**."
   ]
  },
  {
   "cell_type": "markdown",
   "metadata": {},
   "source": [
    "# Python Assignment 01"
   ]
  },
  {
   "cell_type": "markdown",
   "metadata": {},
   "source": [
    "### Question 1: \n",
    "\n",
    "Write a python program that generates a list containing only common elements between the two lists (without duplicates). Make sure your program works on two lists of different sizes.\n",
    "\n",
    "Expected Output:\n",
    "```\n",
    "List 1: [0, 2, 4, 6, 12, 13, 14, 18, 20, 24, 25, 26, 27]\n",
    "List 2: [0, 4, 7, 9, 10, 11, 13, 14, 17, 18, 20, 33, 39]\n",
    "List of common elements are:  [0, 4, 13, 14, 18, 20]\n",
    "```\n",
    "\n",
    "For extra points:\n",
    "1. Generate the two list randomly to test this\n",
    "2. Generate each list in one line of Python."
   ]
  },
  {
   "cell_type": "code",
   "execution_count": 8,
   "metadata": {},
   "outputs": [
    {
     "name": "stdout",
     "output_type": "stream",
     "text": [
      "[0, 4, 13, 14, 18, 20]\n"
     ]
    }
   ],
   "source": [
    "# Solution 1: \n",
    "list1=[0,2,4,6,12,13,14,18,20,24,25,26,27]\n",
    "list2=[0,4,7,9,10,11,13,14,17,18,20,33,39]\n",
    "li=set.intersection(set(list1),set(list2))\n",
    "print(list(li))\n"
   ]
  },
  {
   "cell_type": "markdown",
   "metadata": {},
   "source": [
    "### Question 2: \n",
    "\n",
    "Write a python program to find the gravitational force acting between two objects.\n",
    "\n",
    "\\begin{equation*}\n",
    "F=G\\frac{{m_1}{m_2}}{{r^2}}\n",
    "\\end{equation*}\n",
    "\n",
    "Expected Output:\n",
    "```\n",
    "Enter the first mass (m1): 5000000\n",
    "Enter the second mass (m2): 900000\n",
    "Enter the distance between the centres of the masses (N): 30\n",
    "Hence, the Gravitational Force is:  0.33 N\n",
    "```"
   ]
  },
  {
   "cell_type": "code",
   "execution_count": 1,
   "metadata": {},
   "outputs": [
    {
     "name": "stdout",
     "output_type": "stream",
     "text": [
      "输入第一个质量（m1）：5000000\n",
      "输入第二个质量（m2）：900000\n",
      "输入质心之间的距离（N）：30\n",
      "因此，重力为：0.33370400000000006\n"
     ]
    }
   ],
   "source": [
    "# Solution 2: \n",
    "import math\n",
    "from scipy.constants import G\n",
    "t=float(input('输入第一个质量（m1）：'))\n",
    "t2=float(input('输入第二个质量（m2）：'))\n",
    "t3=float(input('输入质心之间的距离（N）：'))\n",
    "f=G*t*t2/(t3*t3)\n",
    "print(\"因此，重力为：\"  +str(f))\n"
   ]
  },
  {
   "cell_type": "markdown",
   "metadata": {},
   "source": [
    "### Question 3: \n",
    "\n",
    "Write a python program that generates a new list that contains only even elements from the randomly generated list.\n",
    "\n",
    "Expected Output:\n",
    "```\n",
    "Randomly generated list: [64, 63, 90, 13, 38, 27, 19, 51, 97, 32, 18, 75]\n",
    "List of even elements: [64, 90, 38, 32, 18]\n",
    "```"
   ]
  },
  {
   "cell_type": "code",
   "execution_count": 6,
   "metadata": {},
   "outputs": [
    {
     "name": "stdout",
     "output_type": "stream",
     "text": [
      "随机生成的列表：[4, 40, 11, 30, 83, 63, 97, 6, 63, 76]\n",
      "偶数元素列表：：[4, 40, 30, 6, 76]\n"
     ]
    }
   ],
   "source": [
    "# Solution 3: \n",
    "from random import randint\n",
    "li=[]\n",
    "ou=[]\n",
    "for i in range(10):\n",
    "    li.append(randint(0,100))\n",
    "for i in li :\n",
    "    if i%2==0:\n",
    "        ou.append(i)\n",
    "print('随机生成的列表：{}'.format(li))\n",
    "print('偶数元素列表：：{}'.format(ou))\n"
   ]
  },
  {
   "cell_type": "markdown",
   "metadata": {},
   "source": [
    "### Question 4: \n",
    "\n",
    "Write a python program to check if a substring is present in a given string.\n",
    "\n",
    "Expected Output:\n",
    "```\n",
    "Enter string: Hello world\n",
    "Enter word: world\n",
    "Substring in string!\n",
    "```"
   ]
  },
  {
   "cell_type": "code",
   "execution_count": 9,
   "metadata": {},
   "outputs": [
    {
     "name": "stdout",
     "output_type": "stream",
     "text": [
      "输入字符串：Hello world\n",
      "输入单词：world\n",
      "字符串中的子字符串！\n"
     ]
    }
   ],
   "source": [
    "# Solution 4: \n",
    "# Solution 4: \n",
    "i=input('输入字符串：')\n",
    "ii=input('输入单词：')\n",
    "if ii in i:\n",
    "    print('字符串中的子字符串！')\n",
    "else:\n",
    "    print('不是字符串中的子字符串！')\n"
   ]
  },
  {
   "cell_type": "markdown",
   "metadata": {},
   "source": [
    "### Question 5: \n",
    "\n",
    "Write a python program that asks the user last 2 digit of (your) student number and generates Fibonacci series.\n",
    "\n",
    "Expected Output:\n",
    "```\n",
    "How many numbers that generates?: 12\n",
    "Fibonacci series:\n",
    " [1, 1, 2, 3, 5, 8, 13, 21, 34, 55, 89, 144]\n",
    "```"
   ]
  },
  {
   "cell_type": "code",
   "execution_count": 43,
   "metadata": {},
   "outputs": [
    {
     "name": "stdout",
     "output_type": "stream",
     "text": [
      "生成多少个数字？:5\n",
      "[1, 1, 2, 3, 5]\n"
     ]
    }
   ],
   "source": [
    "# Solution 5: \n",
    "d =int(input(\"生成多少个数字？:\"))-2\n",
    "gx=[1,1,]\n",
    "a=1\n",
    "b=1\n",
    "for d in range(d):\n",
    "     c = a + b\n",
    "     gx.append(c)\n",
    "     a = b\n",
    "     b = c\n",
    "print(gx)\n"
   ]
  },
  {
   "cell_type": "markdown",
   "metadata": {},
   "source": [
    "### Question 6: \n",
    "\n",
    "Write a python program using function that generates a new list that contains all the elements of the first list and removing all the duplicates.\n",
    "\n",
    "Expected Output:\n",
    "```\n",
    "List:  [1, 2, 3, 4, 3, 2, 1]\n",
    "Result List using loop:  [1, 2, 3, 4]\n",
    "Result List using sets:  [1, 2, 3, 4]\n",
    "```\n",
    "\n",
    "For extra points:\n",
    "1. Generate the result using two different functions using:\n",
    "    - one using a loop and constructing a list\n",
    "    - sets"
   ]
  },
  {
   "cell_type": "code",
   "execution_count": 4,
   "metadata": {},
   "outputs": [
    {
     "name": "stdout",
     "output_type": "stream",
     "text": [
      "[3, 3, 0, 0, 5, 0, 4, 2, 2, 5]\n",
      "使用循环的结果列表：[0, 2, 3, 5]\n",
      "使用集合的结果列表：[0, 5]\n"
     ]
    }
   ],
   "source": [
    "# Solution 6: \n",
    "def gener_li():\n",
    "    from random import randint\n",
    "    li=[]\n",
    "    for i in range(10):\n",
    "        li.append(randint(0,5))\n",
    "    return li\n",
    "li=gener_li()\n",
    "print(li)\n",
    "c=[]\n",
    "for i in  range(len(li)):\n",
    "    if  li[i] in li[i+1:]  :\n",
    "        c.append(li[i])\n",
    "print('使用循环的结果列表：{}'.format(list(set(c))))\n",
    "li1=set(li[:5])\n",
    "li2=set(li[5:])\n",
    "li3=list(set.intersection(li1,li2))\n",
    "print('使用集合的结果列表：{}'.format(li3))\n"
   ]
  },
  {
   "cell_type": "markdown",
   "metadata": {},
   "source": [
    "### Question 7: \n",
    "\n",
    "Write a python program using functions that asks the user for a string containing multiple words and print back to the user the same string, except with the words in reverse order.\n",
    "\n",
    "Expected Output:\n",
    "```\n",
    "Please enter a sentence: My name is Milaan\n",
    "The reverse sentence is: Milaan is name My\n",
    "```"
   ]
  },
  {
   "cell_type": "code",
   "execution_count": 3,
   "metadata": {},
   "outputs": [
    {
     "name": "stdout",
     "output_type": "stream",
     "text": [
      "Please enter a sentence: My name is Clark\n",
      "Clark is name My \n"
     ]
    }
   ],
   "source": [
    "# Solution 7: \n",
    "i=input('Please enter a sentence: ')\n",
    "t=i.split(' ')\n",
    "s=''\n",
    "t.reverse()\n",
    "for i in t:\n",
    "    s+=(i+' ')\n",
    "print(s)\n"
   ]
  },
  {
   "cell_type": "markdown",
   "metadata": {},
   "source": [
    "### Question 8: \n",
    "\n",
    "Write a python program using function that encrypts a given input with these steps:\n",
    "\n",
    "Input: \"apple\"\n",
    "\n",
    "* Step 1: Reverse the input: \"elppa\"\n",
    "* Step 2: Replace all vowels using the following chart:\n",
    "\n",
    "```python\n",
    "a => 0\n",
    "e => 1\n",
    "i => 2\n",
    "o => 2\n",
    "u => 3\n",
    "# 1lpp0\n",
    "```\n",
    "\n",
    "* Step 3: Add \"aca\" to the end of the word: \"1lpp0aca\"\n",
    "\n",
    "Expected Output:\n",
    "```\n",
    "Word:  apple\n",
    "Encrypted word: 1lpp0aca\n",
    "```\n",
    "\n",
    "More Examples:\n",
    "```\n",
    "encrypt(\"banana\") ➞ \"0n0n0baca\"\n",
    "encrypt(\"karaca\") ➞ \"0c0r0kaca\"\n",
    "encrypt(\"burak\") ➞ \"k0r3baca\"\n",
    "encrypt(\"alpaca\") ➞ \"0c0pl0aca\"\n",
    "```"
   ]
  },
  {
   "cell_type": "code",
   "execution_count": 2,
   "metadata": {},
   "outputs": [
    {
     "name": "stdout",
     "output_type": "stream",
     "text": [
      "Input: apple\n",
      "1lpp0aca\n"
     ]
    }
   ],
   "source": [
    "# Solution 8: \n",
    "i=input('Input: ')\n",
    "s=i[::-1]\n",
    "p=''\n",
    "d={'a':0,'e':1,'i':2,'o':2,'u':3}\n",
    "for i in s:\n",
    "        p+='{}'.format(d.get(i,i))\n",
    "p=p+'aca'\n",
    "print(p)\n",
    "\n"
   ]
  },
  {
   "cell_type": "markdown",
   "metadata": {},
   "source": [
    "### Question 9: \n",
    "\n",
    "Write a python program using function that takes a number num and returns its length.\n",
    "\n",
    "Expected Output:\n",
    "```\n",
    "Enter number: 963969\n",
    "Total digits in given number:  6\n",
    "```"
   ]
  },
  {
   "cell_type": "code",
   "execution_count": 7,
   "metadata": {},
   "outputs": [
    {
     "name": "stdout",
     "output_type": "stream",
     "text": [
      "输入号码：963969\n",
      "给定数字的总位数：6\n"
     ]
    }
   ],
   "source": [
    "# Solution 9: \n",
    "def sun(n):\n",
    "     return len(n)\n",
    "t=sun(input(\"输入号码：\"))\n",
    "print('给定数字的总位数：{}'.format(t))\n"
   ]
  },
  {
   "cell_type": "markdown",
   "metadata": {},
   "source": [
    "### Question 10: \n",
    "\n",
    "Write a python program using function that takes a string and returns the number (count) of vowels contained within it.\n",
    "\n",
    "Expected Output:\n",
    "```\n",
    "Enter string: Celebration\n",
    "Total vowels in the string: 5\n",
    "Identified vowels are:  ['e', 'e', 'a', 'i', 'o']\n",
    "```\n",
    "\n",
    "More examples:\n",
    "```\n",
    "count_vowels(\"Palm\") ➞ 1\n",
    "count_vowels(\"Prediction\") ➞ 4\n",
    "```"
   ]
  },
  {
   "cell_type": "code",
   "execution_count": 8,
   "metadata": {},
   "outputs": [
    {
     "name": "stdout",
     "output_type": "stream",
     "text": [
      "输入字符串eeaio\n",
      "字符串中的元音总数：5\n"
     ]
    }
   ],
   "source": [
    "# Solution 10: \n",
    "def c(t):\n",
    "     j=0\n",
    "     for i in t:\n",
    "         if i in ['e','i','u','a','o']:\n",
    "             j=j+1\n",
    "     return j\n",
    "j=c(input('输入字符串'))\n",
    "print('字符串中的元音总数：{}'.format(j))\n"
   ]
  },
  {
   "cell_type": "markdown",
   "metadata": {},
   "source": [
    "### Question 11:\n",
    "\n",
    "Write a python program to draw pattern as below:\n",
    "\n",
    "Expected Output:\n",
    "```\n",
    "--- --- --- \n",
    "|   |   |   |\n",
    " --- --- --- \n",
    "|   |   |   |\n",
    " --- --- --- \n",
    "|   |   |   |\n",
    " --- --- --- \n",
    "```\n",
    "\n",
    "For extra point:\n",
    "1. Generate solution by asking the user what size game board they want to draw, and draw it for them to the screen using Python’s print statement.\n",
    "\n",
    "Expected Output:\n",
    "```\n",
    "Enter the size of board you want to draw: 4\n",
    " --- --- --- ---\n",
    "|   |   |   |   |   \n",
    " --- --- --- ---\n",
    "|   |   |   |   |   \n",
    " --- --- --- ---\n",
    "|   |   |   |   |   \n",
    " --- --- --- ---\n",
    "|   |   |   |   |   \n",
    " --- --- --- ---\n",
    "```"
   ]
  },
  {
   "cell_type": "code",
   "execution_count": 1,
   "metadata": {},
   "outputs": [
    {
     "name": "stdout",
     "output_type": "stream",
     "text": [
      "--- --- --- \n",
      "|   |   |   |\n",
      "--- --- --- \n",
      "|   |   |   |\n",
      "--- --- --- \n",
      "|   |   |   |\n"
     ]
    }
   ],
   "source": [
    "# Solution 11: \n",
    "for i in range(6):\n",
    "     if i%2==0:\n",
    "         print('--- --- --- ')\n",
    "     else:\n",
    "         print('|   |   |   |')\n"
   ]
  },
  {
   "cell_type": "markdown",
   "metadata": {},
   "source": [
    "### Question 12: \n",
    "\n",
    "Write a python program to ask user for a string and then perform following operations:\n",
    "1. Calculate the num of digits \n",
    "2. Calculate the num of characters \n",
    "3. Calculate the num of vowels\n",
    "4. Calculate the num of lowercase letters\n",
    "5. replace ' ' with '_' in the string\n",
    "6. Print and Store the ouput to 'output.txt' file.\n",
    "\n",
    "Expected Output:\n",
    "```\n",
    "Enter string: Hello World 123\n",
    "Output printed in'output.txt'\n",
    "```\n",
    "\n",
    "Expected Output in output.txt:\n",
    "```\n",
    "The entered string is: Hello World 123\n",
    "The number of digits is: 3\n",
    "The number of characters is: 15\n",
    "The number of vowels is: 3\n",
    "The number of lowercase letters is: 8\n",
    "The modified string is: Hello_World_123\n",
    "```"
   ]
  },
  {
   "cell_type": "code",
   "execution_count": 13,
   "metadata": {
    "scrolled": true
   },
   "outputs": [
    {
     "name": "stdout",
     "output_type": "stream",
     "text": [
      "输入的字符串是：Hello World 123\n",
      "位数为：3\n",
      "字符数为：15\n",
      "元音的数目是：3\n",
      "小写字母的数目是：5\n",
      "修改后的字符串是：Hello_ World_ 123\n"
     ]
    },
    {
     "data": {
      "text/plain": [
       "1"
      ]
     },
     "execution_count": 13,
     "metadata": {},
     "output_type": "execute_result"
    }
   ],
   "source": [
    "# Solution 12: \n",
    "s=input('输入的字符串是：')\n",
    "print('位数为：{}'.format(len(s.split(' '))))\n",
    "print('字符数为：{}'.format(len(s)))\n",
    "k=0\n",
    "x=0\n",
    "for  i in s:\n",
    "     if i in ['e','i','u','a','o']:\n",
    "         k+=1\n",
    "     elif i in'qwertyuioplkjhgfdsazxcvbnm':\n",
    "         x+=1\n",
    "print('元音的数目是：{}'.format(k))\n",
    "print('小写字母的数目是：{}'.format(x))\n",
    "t=s.replace(' ',r'_ ')\n",
    "print('修改后的字符串是：{}'.format(t))\n",
    "f=open('output.txt','w')\n",
    "f.write(t)\n",
    "f.write('\\n')\n"
   ]
  },
  {
   "cell_type": "markdown",
   "metadata": {},
   "source": [
    "### Question 13: \n",
    "\n",
    "Write a python program using function that takes as input three variables from user, and returns the largest of the three. Do this without using the Python **`max()`** function!\n",
    "\n",
    "Expected Output:\n",
    "Please enter three integers separated by comma: 12, 66, 31\n",
    "The maximum value is: 66 "
   ]
  },
  {
   "cell_type": "code",
   "execution_count": 17,
   "metadata": {},
   "outputs": [
    {
     "name": "stdout",
     "output_type": "stream",
     "text": [
      "请输入三个以逗号分隔的整数：66,12,31\n",
      "最大值为：66\n"
     ]
    }
   ],
   "source": [
    "# Solution 13: \n",
    "def g():\n",
    "    t=input('请输入三个以逗号分隔的整数：').split(',')\n",
    "    return t\n",
    "t=g()\n",
    "for i in range(2):\n",
    "    n=t.index(min(t))\n",
    "    del t[n]\n",
    "print('最大值为：{}'.format(t[0]))\n"
   ]
  },
  {
   "cell_type": "markdown",
   "metadata": {},
   "source": [
    "### Question 14: \n",
    "\n",
    "Write a python program where user, will have a number in head between 0 and 100. The program will guess a number, and you, the user, will say whether it is too \"high\", too \"low\", or your number. Also, in the end program should print out how many guesses it took to get your number.\n",
    "\n",
    "Expected Output:\n",
    "```\n",
    "Guess a number between 0 and 100 and tell whether high or low when prompted!\n",
    "My guess is 50. Is that high, low or same? low\n",
    "My guess is 75. Is that high, low or same? low\n",
    "My guess is 88. Is that high, low or same? low\n",
    "My guess is 94. Is that high, low or same? low\n",
    "My guess is 97. Is that high, low or same? low\n",
    "My guess is 99. Is that high, low or same? same\n",
    "Congrats to me! I guessed it in 6 tries.\n",
    "```"
   ]
  },
  {
   "cell_type": "code",
   "execution_count": 21,
   "metadata": {},
   "outputs": [
    {
     "name": "stdout",
     "output_type": "stream",
     "text": [
      "请输入一个整数:50\n",
      "太小了，请重新输入！\n",
      "请输入一个整数：80\n",
      "太大了，请重新输入！\n",
      "请输入一个整数：60\n",
      "太小了，请重新输入！\n",
      "请输入一个整数：70\n",
      "太小了，请重新输入！\n",
      "请输入一个整数：75\n",
      "太大了，请重新输入！\n",
      "请输入一个整数：72\n",
      "太小了，请重新输入！\n",
      "请输入一个整数：73\n",
      "太小了，请重新输入！\n",
      "请输入一个整数：74\n",
      "恭喜您，您猜对了！您一共猜了8次\n"
     ]
    }
   ],
   "source": [
    "# Solution 14: \n",
    "import random\n",
    "def guess_number():\n",
    "    true_num = random.randint(1, 100)\n",
    "    user_num = int(input(\"请输入一个整数:\"))\n",
    "    count = 1\n",
    "    while true_num != user_num:\n",
    "        if true_num > user_num:\n",
    "            print(\"太小了，请重新输入！\")\n",
    "        elif true_num < user_num:\n",
    "            print(\"太大了，请重新输入！\")\n",
    "        count += 1\n",
    "        user_num = int(input(\"请输入一个整数：\"))\n",
    "    print(\"恭喜您，您猜对了！您一共猜了%d次\" % count)\n",
    "\n",
    "guess_number()\n",
    "\n"
   ]
  },
  {
   "cell_type": "markdown",
   "metadata": {},
   "source": [
    "### Question 15: \n",
    "\n",
    "Write a python program using function that takes an list(ordered) of numbers (from smallest to largest) and another number. The function decides whether or not the given number is inside the list and returns (then prints) an appropriate boolean.\n",
    "\n",
    ">Hint: Use binary search.\n",
    "\n",
    "Expected Output:\n",
    "```\n",
    "List:  [2, 4, 6, 8, 10]\n",
    "Find  '5': False\n",
    "Find '10': True\n",
    "Find '-1': False\n",
    "Find  '2': True\n",
    "```\n",
    "\n",
    "For extra point:\n",
    "1. Generate list randomly and select he number randomly to be search from the list."
   ]
  },
  {
   "cell_type": "code",
   "execution_count": 2,
   "metadata": {},
   "outputs": [
    {
     "name": "stdout",
     "output_type": "stream",
     "text": [
      "列表：2，4，6，8\n",
      "查找5\n",
      "False\n"
     ]
    }
   ],
   "source": [
    "# Solution 15: \n",
    "def g(li,n):\n",
    "    if n in li:\n",
    "        print(True)\n",
    "    else:\n",
    "        print(False)\n",
    "li=input('列表：')\n",
    "t=input('查找')\n",
    "g(li,t)\n"
   ]
  },
  {
   "cell_type": "markdown",
   "metadata": {},
   "source": [
    "### Question 16: \n",
    "\n",
    "Write a python program to generate password. Be creative with how you generate passwords - strong passwords have a mix of lowercase letters, uppercase letters, numbers, and symbols. The passwords should be random, generating a new password every time the user asks for a new password. Include your code in a main method.\n",
    "\n",
    "Expected Output:\n",
    "```\n",
    "Please choose strong or weak:\n",
    "strong\n",
    "password: 6|Av.0T^9\n",
    "do you want a new password? y/n\n",
    "n\n",
    "```\n",
    "\n",
    "For extra points:\n",
    "1. Ask the user if they want password to be strong(9 characters) or weak(6 characters)?"
   ]
  },
  {
   "cell_type": "code",
   "execution_count": 4,
   "metadata": {},
   "outputs": [
    {
     "name": "stdout",
     "output_type": "stream",
     "text": [
      "请选择强或弱：强\n",
      "p%Q2+cim\n",
      "你想要一个新密码吗？N/YY\n",
      "请选择强或弱：弱\n",
      "ahmzva7t\n",
      "你想要一个新密码吗？N/YN\n"
     ]
    }
   ],
   "source": [
    "# Solution 16: \n",
    "import random\n",
    "def main(n):\n",
    "     k = ''\n",
    "     for i in range(8):\n",
    "         m = random.choice(n)[0]\n",
    "         k = k + m\n",
    "     print(k)\n",
    "while True:\n",
    "     t=input('请选择强或弱：')\n",
    "     if t=='强':\n",
    "         main(\"asdfgh&jklpowqzxcvbnm234QWAZSX NMiuytreJKLPOIU:,.?+_)(*^%$@!15EDCRFVTGBYHUJ67890.]\")\n",
    "         y=input('你想要一个新密码吗？N/Y')\n",
    "     else:\n",
    "         main(\"123456789qwertyausidffghijokplmznxbcv\")\n",
    "         y = input('你想要一个新密码吗？N/Y')\n",
    "     if y=='N':\n",
    "         break\n"
   ]
  },
  {
   "cell_type": "markdown",
   "metadata": {},
   "source": [
    "### Question 17: \n",
    "\n",
    "Write a python program using function that picks a random word from a list of words from the **[dictionary](https://github.com/milaan9/92_Python_Assignments/blob/main/sowpods.txt)**. Each line in the file contains a single word.\n",
    "\n",
    ">Hint: use the Python random library for picking a random word.\n",
    "\n",
    "Expected Output:\n",
    "```\n",
    "Random word: POTENTIATING\n",
    "```"
   ]
  },
  {
   "cell_type": "code",
   "execution_count": 11,
   "metadata": {},
   "outputs": [
    {
     "ename": "IndentationError",
     "evalue": "expected an indented block (<ipython-input-11-937ac12eac1c>, line 3)",
     "output_type": "error",
     "traceback": [
      "\u001b[1;36m  File \u001b[1;32m\"<ipython-input-11-937ac12eac1c>\"\u001b[1;36m, line \u001b[1;32m3\u001b[0m\n\u001b[1;33m    import random\u001b[0m\n\u001b[1;37m         ^\u001b[0m\n\u001b[1;31mIndentationError\u001b[0m\u001b[1;31m:\u001b[0m expected an indented block\n"
     ]
    }
   ],
   "source": [
    "# Solution 17: \n",
    "def main():\n",
    "import random\n",
    "f=open('SUN_Database.txt','r')\n",
    "n=f.readlines()\n",
    "return random.choices(n)[0]\n",
    "print('随机词：{}'.format(main()))\n"
   ]
  },
  {
   "cell_type": "markdown",
   "metadata": {},
   "source": [
    "### Question 18: \n",
    "\n",
    "Write a python program where a text(.txt) file is given **[nameslist.txt](https://github.com/milaan9/92_Python_Assignments/blob/main/nameslist.txt)** that contains list of a bunch of names, count how many of each name there are in the file, and print out the results to the screen. \n",
    "\n",
    "Expected Output:\n",
    "```\n",
    "{'Darth': 31, 'Luke': 15, 'Leia': 54}\n",
    "```\n",
    "\n",
    "For extra point:\n",
    "1. Instead of using the **[nameslist.txt](https://github.com/milaan9/92_Python_Assignments/blob/main/nameslist.txt)** file from above (or instead of, if you want the challenge), take this **[SUN_Database.txt](https://github.com/milaan9/92_Python_Assignments/blob/main/SUN_Database.txt)** file, and count how many of each “category” of each image there are. This text file is actually a list of files corresponding to the SUN database scene recognition database, and lists the file directory hierarchy for the images. Once you take a look at the first line or two of the file, it will be clear which part represents the scene category.\n",
    "\n",
    "Expected Output:\n",
    "```\n",
    "abbey: 50\n",
    "airplane_cabin: 50\n",
    "airport_terminal: 50\n",
    "alley: 50\n",
    "amphitheater: 50\n",
    "...\n",
    "...\n",
    "...\n",
    "wrestling_ring: 50\n",
    "yard: 50\n",
    "youth_hostel: 50\n",
    "```"
   ]
  },
  {
   "cell_type": "code",
   "execution_count": 30,
   "metadata": {},
   "outputs": [
    {
     "name": "stdout",
     "output_type": "stream",
     "text": [
      "['Darth\\n', 'Luke\\n', 'Darth\\n', 'Leia\\n', 'Darth\\n', 'Leia\\n', 'Leia\\n', 'Luke\\n', 'Darth\\n', 'Leia\\n', 'Darth\\n', 'Darth\\n', 'Leia\\n', 'Leia\\n', 'Darth\\n', 'Leia\\n', 'Darth\\n', 'Leia\\n', 'Luke\\n', 'Darth\\n', 'Leia\\n', 'Leia\\n', 'Darth\\n', 'Leia\\n', 'Darth\\n', 'Darth\\n', 'Leia\\n', 'Leia\\n', 'Luke\\n', 'Luke\\n', 'Leia\\n', 'Darth\\n', 'Darth\\n', 'Luke\\n', 'Leia\\n', 'Darth\\n', 'Darth\\n', 'Leia\\n', 'Leia\\n', 'Leia\\n', 'Leia\\n', 'Leia\\n', 'Luke\\n', 'Darth\\n', 'Luke\\n', 'Leia\\n', 'Leia\\n', 'Leia\\n', 'Leia\\n', 'Luke\\n', 'Leia\\n', 'Darth\\n', 'Leia\\n', 'Leia\\n', 'Darth\\n', 'Leia\\n', 'Leia\\n', 'Darth\\n', 'Darth\\n', 'Leia\\n', 'Darth\\n', 'Leia\\n', 'Darth\\n', 'Luke\\n', 'Leia\\n', 'Luke\\n', 'Darth\\n', 'Darth\\n', 'Luke\\n', 'Darth\\n', 'Leia\\n', 'Darth\\n', 'Leia\\n', 'Luke\\n', 'Leia\\n', 'Leia\\n', 'Leia\\n', 'Leia\\n', 'Leia\\n', 'Darth\\n', 'Leia\\n', 'Leia\\n', 'Leia\\n', 'Leia\\n', 'Leia\\n', 'Leia\\n', 'Leia\\n', 'Luke\\n', 'Leia\\n', 'Leia\\n', 'Leia\\n', 'Leia\\n', 'Leia\\n', 'Leia\\n', 'Darth\\n', 'Luke\\n', 'Darth\\n', 'Leia\\n', 'Leia\\n', 'Darth']\n",
      "{'Darth': 30, 'Luke': 15, 'Leia': 54}\n"
     ]
    }
   ],
   "source": [
    "# Solution 18: \n",
    "f=open('nameslist.txt','r')\n",
    "t=f.readlines()\n",
    "print(t)\n",
    "l=0\n",
    "k=0\n",
    "j=0\n",
    "for i in t:\n",
    "    if i =='Darth\\n':\n",
    "        l+=1\n",
    "    elif i =='Luke\\n':\n",
    "        k+=1\n",
    "    elif i=='Leia\\n':\n",
    "        j+=1\n",
    "p={'Darth':l,'Luke':k,'Leia':j}\n",
    "print(p)\n"
   ]
  },
  {
   "cell_type": "markdown",
   "metadata": {},
   "source": [
    "### Question 19: \n",
    "\n",
    "Write a python program where two .txt files are given that have lists of numbers in them, find the numbers that are overlapping. One '**[primenumbers1_1000.txt](https://github.com/milaan9/92_Python_Assignments/blob/main/primenumbers1_1000.txt)**' file has a list of all prime numbers under 1000, and the other '**[happynumbers1_1000.txt](https://github.com/milaan9/92_Python_Assignments/blob/main/happynumbers1_1000.txt)**' file has a list of **[happy numbers](https://en.wikipedia.org/wiki/Happy_number)** up to 1000.\n",
    "\n",
    "Expected Output:\n",
    "```\n",
    "The list of overlapping numbers:\n",
    " [7, 13, 19, 23, 31, 79, 97, 103, 109, 139, 167, 193, 239, 263, 293, 313, 331, 367, 379, 383, 397, 409, 487, 563, 617, 653, 673, 683, 709, 739, 761, 863, 881, 907, 937]\n",
    "```\n",
    "\n",
    "For extra point:\n",
    "1. Generate solution with functions using list comprehensions"
   ]
  },
  {
   "cell_type": "code",
   "execution_count": 12,
   "metadata": {},
   "outputs": [
    {
     "name": "stdout",
     "output_type": "stream",
     "text": [
      "{'739\\n', '109\\n', '13\\n', '331\\n', '907\\n', '239\\n', '19\\n', '313\\n', '23\\n', '79\\n', '683\\n', '397\\n', '167\\n', '709\\n', '367\\n', '487\\n', '673\\n', '139\\n', '31\\n', '937\\n', '293\\n', '563\\n', '617\\n', '761\\n', '193\\n', '7\\n', '97\\n', '383\\n', '653\\n', '379\\n', '263\\n', '881\\n', '103\\n'}\n"
     ]
    }
   ],
   "source": [
    "# Solution 19: \n",
    "f=open('primenumbers1_1000.txt','r')\n",
    "t1=set(f.readlines())\n",
    "f2=open('happynumbers1_1000.txt','r')\n",
    "t2=set(f2.readlines())\n",
    "jia=t1&t2\n",
    "print(jia)\n"
   ]
  },
  {
   "cell_type": "markdown",
   "metadata": {},
   "source": [
    "### Question 20: \n",
    "\n",
    "Create a function that takes a string as an argument and returns the Morse code equivalent.\n",
    "\n",
    "For example:\n",
    "```\n",
    "encode_morse(\"HELP ME !\") ➞ \".... . .-.. .--.   -- .   -.-.--\"\n",
    "```\n",
    "\n",
    "Expected Output:\n",
    "```\n",
    "Enter a sentence: I love\n",
    "..   .-.. --- ...- .\n",
    "Enter morse code: .--. -.-- - .... --- -.\n",
    "PYTHON\n",
    "```\n",
    "\n",
    "This dictionary can be used for coding:\n",
    "```\n",
    "char_to_dots = {\n",
    "    'A': '.-',   'B': '-...', 'C': '-.-.', 'D': '-..',  'E': '.',    'F': '..-.',\n",
    "    'G': '--.',  'H': '....', 'I': '..',   'J': '.---', 'K': '-.-',  'L': '.-..',\n",
    "    'M': '--',   'N': '-.',   'O': '---',  'P': '.--.', 'Q': '--.-', 'R': '.-.',\n",
    "    'S': '...',  'T': '-',    'U': '..-',  'V': '...-', 'W': '.--',  'X': '-..-',\n",
    "    'Y': '-.--', 'Z': '--..',  \n",
    "        \n",
    "    '0': '-----', '1': '.----', '2': '..---', '3': '...--', '4': '....-', \n",
    "    '5': '.....', '6': '-....', '7': '--...', '8': '---..', '9': '----.',\n",
    "        \n",
    "    ' ': ' ',      '&': '.-...',  \"'\": '.----.', '@': '.--.-.', ')': '-.--.-', \n",
    "    '(': '-.--.',  ':': '---...', ',': '--..--', '=': '-...-',  '!': '-.-.--', \n",
    "    '.': '.-.-.-', '-': '-....-', '+': '.-.-.', '\"': '.-..-.',  '?': '..--..', \n",
    "    '/': '-..-.'\n",
    "}\n",
    "```"
   ]
  },
  {
   "cell_type": "code",
   "execution_count": 13,
   "metadata": {},
   "outputs": [
    {
     "name": "stdout",
     "output_type": "stream",
     "text": [
      "输入一句话：Clark5405\n",
      "-.-..-...-.-.-.-.........------.....\n"
     ]
    }
   ],
   "source": [
    "# Solution 20: \n",
    "def f(s):\n",
    "    t=''\n",
    "    g ={\n",
    "        'A': '.-', 'B': '-...', 'C': '-.-.', 'D': '-..', 'E': '.', 'F': '..-.',\n",
    "        'G': '--.', 'H': '....', 'I': '..', 'J': '.---', 'K': '-.-', 'L': '.-..',\n",
    "        'M': '--', 'N': '-.', 'O': '---', 'P': '.--.', 'Q': '--.-', 'R': '.-.',\n",
    "        'S': '...', 'T': '-', 'U': '..-', 'V': '...-', 'W': '.--', 'X': '-..-',\n",
    "        'Y': '-.--', 'Z': '--..',\n",
    "        \n",
    "        '0': '-----', '1': '.----', '2': '..---', '3': '...--', '4': '....-',\n",
    "        '5': '.....', '6': '-....', '7': '--...', '8': '---..', '9': '----.',\n",
    "        ' ': ' ', '&': '.-...', \"'\": '.----.', '@': '.--.-.', ')': '-.--.-',\n",
    "        \n",
    "        '(': '-.--.', ':': '---...', ',': '--..--', '=': '-...-', '!': '-.-.--',\n",
    "        '.': '.-.-.-', '-': '-....-', '+': '.-.-.', '\"': '.-..-.', '?': '..--..',\n",
    "        '/': '-..-.'\n",
    "    }\n",
    "    for  i in s:\n",
    "        i=i.upper()\n",
    "        t+=g[i]\n",
    "    return  t\n",
    "s=input('输入一句话：')\n",
    "gg=f(s)\n",
    "print(gg)\n"
   ]
  },
  {
   "cell_type": "code",
   "execution_count": null,
   "metadata": {},
   "outputs": [],
   "source": []
  }
 ],
 "metadata": {
  "hide_input": false,
  "kernelspec": {
   "display_name": "Python 3",
   "language": "python",
   "name": "python3"
  },
  "language_info": {
   "codemirror_mode": {
    "name": "ipython",
    "version": 3
   },
   "file_extension": ".py",
   "mimetype": "text/x-python",
   "name": "python",
   "nbconvert_exporter": "python",
   "pygments_lexer": "ipython3",
   "version": "3.7.0"
  },
  "toc": {
   "base_numbering": 1,
   "nav_menu": {},
   "number_sections": true,
   "sideBar": true,
   "skip_h1_title": false,
   "title_cell": "Table of Contents",
   "title_sidebar": "Contents",
   "toc_cell": false,
   "toc_position": {},
   "toc_section_display": true,
   "toc_window_display": false
  },
  "varInspector": {
   "cols": {
    "lenName": 16,
    "lenType": 16,
    "lenVar": 40
   },
   "kernels_config": {
    "python": {
     "delete_cmd_postfix": "",
     "delete_cmd_prefix": "del ",
     "library": "var_list.py",
     "varRefreshCmd": "print(var_dic_list())"
    },
    "r": {
     "delete_cmd_postfix": ") ",
     "delete_cmd_prefix": "rm(",
     "library": "var_list.r",
     "varRefreshCmd": "cat(var_dic_list()) "
    }
   },
   "types_to_exclude": [
    "module",
    "function",
    "builtin_function_or_method",
    "instance",
    "_Feature"
   ],
   "window_display": false
  }
 },
 "nbformat": 4,
 "nbformat_minor": 2
}
